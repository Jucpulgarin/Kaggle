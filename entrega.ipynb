{
 "cells": [
  {
   "cell_type": "code",
   "execution_count": 1,
   "id": "fbda6ff7",
   "metadata": {
    "execution": {
     "iopub.execute_input": "2021-08-18T02:10:58.736909Z",
     "iopub.status.busy": "2021-08-18T02:10:58.735092Z",
     "iopub.status.idle": "2021-08-18T02:11:10.488871Z",
     "shell.execute_reply": "2021-08-18T02:11:10.487690Z",
     "shell.execute_reply.started": "2021-08-18T01:57:41.22835Z"
    },
    "id": "6LkC6ppugKta",
    "papermill": {
     "duration": 11.781436,
     "end_time": "2021-08-18T02:11:10.489051",
     "exception": false,
     "start_time": "2021-08-18T02:10:58.707615",
     "status": "completed"
    },
    "tags": []
   },
   "outputs": [],
   "source": [
    "!pip install -q nnAudio -qq\n",
    "import torch\n",
    "from nnAudio.Spectrogram import CQT1992v2"
   ]
  },
  {
   "cell_type": "code",
   "execution_count": 2,
   "id": "f10aa9c6",
   "metadata": {
    "_kg_hide-output": true,
    "execution": {
     "iopub.execute_input": "2021-08-18T02:11:10.524265Z",
     "iopub.status.busy": "2021-08-18T02:11:10.518834Z",
     "iopub.status.idle": "2021-08-18T02:11:18.324792Z",
     "shell.execute_reply": "2021-08-18T02:11:18.324220Z",
     "shell.execute_reply.started": "2021-08-18T01:57:55.331354Z"
    },
    "id": "1ivxPs3bgKtr",
    "outputId": "0ac4361c-dfa6-42d3-aa09-b61b2e4e328a",
    "papermill": {
     "duration": 7.823081,
     "end_time": "2021-08-18T02:11:18.324962",
     "exception": false,
     "start_time": "2021-08-18T02:11:10.501881",
     "status": "completed"
    },
    "tags": []
   },
   "outputs": [
    {
     "name": "stdout",
     "output_type": "stream",
     "text": [
      "Collecting efficientnet\r\n",
      "  Downloading efficientnet-1.1.1-py3-none-any.whl (18 kB)\r\n",
      "Collecting keras-applications<=1.0.8,>=1.0.7\r\n",
      "  Downloading Keras_Applications-1.0.8-py3-none-any.whl (50 kB)\r\n",
      "\u001b[K     |████████████████████████████████| 50 kB 725 kB/s \r\n",
      "\u001b[?25hRequirement already satisfied: scikit-image in /opt/conda/lib/python3.7/site-packages (from efficientnet) (0.18.2)\r\n",
      "Requirement already satisfied: numpy>=1.9.1 in /opt/conda/lib/python3.7/site-packages (from keras-applications<=1.0.8,>=1.0.7->efficientnet) (1.19.5)\r\n",
      "Requirement already satisfied: h5py in /opt/conda/lib/python3.7/site-packages (from keras-applications<=1.0.8,>=1.0.7->efficientnet) (2.10.0)\r\n",
      "Requirement already satisfied: six in /opt/conda/lib/python3.7/site-packages (from h5py->keras-applications<=1.0.8,>=1.0.7->efficientnet) (1.15.0)\r\n",
      "Requirement already satisfied: scipy>=1.0.1 in /opt/conda/lib/python3.7/site-packages (from scikit-image->efficientnet) (1.6.3)\r\n",
      "Requirement already satisfied: matplotlib!=3.0.0,>=2.0.0 in /opt/conda/lib/python3.7/site-packages (from scikit-image->efficientnet) (3.4.2)\r\n",
      "Requirement already satisfied: tifffile>=2019.7.26 in /opt/conda/lib/python3.7/site-packages (from scikit-image->efficientnet) (2021.7.2)\r\n",
      "Requirement already satisfied: imageio>=2.3.0 in /opt/conda/lib/python3.7/site-packages (from scikit-image->efficientnet) (2.9.0)\r\n",
      "Requirement already satisfied: pillow!=7.1.0,!=7.1.1,>=4.3.0 in /opt/conda/lib/python3.7/site-packages (from scikit-image->efficientnet) (8.2.0)\r\n",
      "Requirement already satisfied: PyWavelets>=1.1.1 in /opt/conda/lib/python3.7/site-packages (from scikit-image->efficientnet) (1.1.1)\r\n",
      "Requirement already satisfied: networkx>=2.0 in /opt/conda/lib/python3.7/site-packages (from scikit-image->efficientnet) (2.5)\r\n",
      "Requirement already satisfied: python-dateutil>=2.7 in /opt/conda/lib/python3.7/site-packages (from matplotlib!=3.0.0,>=2.0.0->scikit-image->efficientnet) (2.8.1)\r\n",
      "Requirement already satisfied: cycler>=0.10 in /opt/conda/lib/python3.7/site-packages (from matplotlib!=3.0.0,>=2.0.0->scikit-image->efficientnet) (0.10.0)\r\n",
      "Requirement already satisfied: kiwisolver>=1.0.1 in /opt/conda/lib/python3.7/site-packages (from matplotlib!=3.0.0,>=2.0.0->scikit-image->efficientnet) (1.3.1)\r\n",
      "Requirement already satisfied: pyparsing>=2.2.1 in /opt/conda/lib/python3.7/site-packages (from matplotlib!=3.0.0,>=2.0.0->scikit-image->efficientnet) (2.4.7)\r\n",
      "Requirement already satisfied: decorator>=4.3.0 in /opt/conda/lib/python3.7/site-packages (from networkx>=2.0->scikit-image->efficientnet) (5.0.9)\r\n",
      "Installing collected packages: keras-applications, efficientnet\r\n",
      "Successfully installed efficientnet-1.1.1 keras-applications-1.0.8\r\n",
      "\u001b[33mWARNING: Running pip as root will break packages and permissions. You should install packages reliably by using venv: https://pip.pypa.io/warnings/venv\u001b[0m\r\n"
     ]
    }
   ],
   "source": [
    "!pip install -U efficientnet"
   ]
  },
  {
   "cell_type": "code",
   "execution_count": 3,
   "id": "c923e7e7",
   "metadata": {
    "execution": {
     "iopub.execute_input": "2021-08-18T02:11:18.362757Z",
     "iopub.status.busy": "2021-08-18T02:11:18.361842Z",
     "iopub.status.idle": "2021-08-18T02:11:23.336592Z",
     "shell.execute_reply": "2021-08-18T02:11:23.335686Z",
     "shell.execute_reply.started": "2021-08-18T01:58:04.373775Z"
    },
    "id": "xmACB4P6gKtr",
    "papermill": {
     "duration": 4.995219,
     "end_time": "2021-08-18T02:11:23.336738",
     "exception": false,
     "start_time": "2021-08-18T02:11:18.341519",
     "status": "completed"
    },
    "tags": []
   },
   "outputs": [],
   "source": [
    "import efficientnet.keras as efn"
   ]
  },
  {
   "cell_type": "code",
   "execution_count": 4,
   "id": "c8a325b7",
   "metadata": {
    "_kg_hide-input": true,
    "execution": {
     "iopub.execute_input": "2021-08-18T02:11:23.373897Z",
     "iopub.status.busy": "2021-08-18T02:11:23.373290Z",
     "iopub.status.idle": "2021-08-18T02:11:23.719540Z",
     "shell.execute_reply": "2021-08-18T02:11:23.718935Z",
     "shell.execute_reply.started": "2021-08-18T01:58:06.43476Z"
    },
    "id": "irSgcCsGgKtY",
    "papermill": {
     "duration": 0.367895,
     "end_time": "2021-08-18T02:11:23.719676",
     "exception": false,
     "start_time": "2021-08-18T02:11:23.351781",
     "status": "completed"
    },
    "tags": []
   },
   "outputs": [],
   "source": [
    "import os\n",
    "import json\n",
    "import random\n",
    "import collections\n",
    "import numpy as np\n",
    "import pandas as pd\n",
    "import cv2\n",
    "import matplotlib.pyplot as plt\n",
    "import seaborn as sns\n",
    "import math\n",
    "from random import shuffle\n",
    "\n",
    "import keras\n",
    "import tensorflow as tf\n",
    "from keras.models import Sequential\n",
    "from keras.utils import Sequence\n",
    "from keras.layers import Dense, Dropout, Activation\n",
    "from keras.optimizers import SGD\n",
    "from tensorflow.keras.optimizers import Adam\n",
    "\n",
    "\n",
    "from tensorflow.keras import models, layers\n",
    "from tensorflow.keras.layers import Dense, Dropout, Activation, Input, BatchNormalization, GlobalAveragePooling2D\n",
    "\n",
    "\n",
    "from tensorflow.keras.preprocessing import image\n",
    "from tensorflow.keras.preprocessing.image import ImageDataGenerator\n",
    "from tensorflow.keras.callbacks import ModelCheckpoint, EarlyStopping, ReduceLROnPlateau\n",
    "\n",
    "from sklearn.model_selection import train_test_split\n",
    "from sklearn.metrics import roc_auc_score, roc_curve, auc\n",
    "from sklearn import model_selection as sk_model_selection"
   ]
  },
  {
   "cell_type": "code",
   "execution_count": 5,
   "id": "3a00e321",
   "metadata": {
    "execution": {
     "iopub.execute_input": "2021-08-18T02:11:23.753432Z",
     "iopub.status.busy": "2021-08-18T02:11:23.752905Z",
     "iopub.status.idle": "2021-08-18T02:11:24.301944Z",
     "shell.execute_reply": "2021-08-18T02:11:24.301491Z"
    },
    "id": "kfmObGPcgKtb",
    "outputId": "faf075de-ebb3-49dd-fab8-768005b312a3",
    "papermill": {
     "duration": 0.56825,
     "end_time": "2021-08-18T02:11:24.302080",
     "exception": false,
     "start_time": "2021-08-18T02:11:23.733830",
     "status": "completed"
    },
    "tags": []
   },
   "outputs": [
    {
     "data": {
      "text/html": [
       "<div>\n",
       "<style scoped>\n",
       "    .dataframe tbody tr th:only-of-type {\n",
       "        vertical-align: middle;\n",
       "    }\n",
       "\n",
       "    .dataframe tbody tr th {\n",
       "        vertical-align: top;\n",
       "    }\n",
       "\n",
       "    .dataframe thead th {\n",
       "        text-align: right;\n",
       "    }\n",
       "</style>\n",
       "<table border=\"1\" class=\"dataframe\">\n",
       "  <thead>\n",
       "    <tr style=\"text-align: right;\">\n",
       "      <th></th>\n",
       "      <th>id</th>\n",
       "      <th>target</th>\n",
       "    </tr>\n",
       "  </thead>\n",
       "  <tbody>\n",
       "    <tr>\n",
       "      <th>0</th>\n",
       "      <td>00000e74ad</td>\n",
       "      <td>1</td>\n",
       "    </tr>\n",
       "    <tr>\n",
       "      <th>1</th>\n",
       "      <td>00001f4945</td>\n",
       "      <td>0</td>\n",
       "    </tr>\n",
       "    <tr>\n",
       "      <th>2</th>\n",
       "      <td>0000661522</td>\n",
       "      <td>0</td>\n",
       "    </tr>\n",
       "  </tbody>\n",
       "</table>\n",
       "</div>"
      ],
      "text/plain": [
       "           id  target\n",
       "0  00000e74ad       1\n",
       "1  00001f4945       0\n",
       "2  0000661522       0"
      ]
     },
     "metadata": {},
     "output_type": "display_data"
    },
    {
     "data": {
      "text/html": [
       "<div>\n",
       "<style scoped>\n",
       "    .dataframe tbody tr th:only-of-type {\n",
       "        vertical-align: middle;\n",
       "    }\n",
       "\n",
       "    .dataframe tbody tr th {\n",
       "        vertical-align: top;\n",
       "    }\n",
       "\n",
       "    .dataframe thead th {\n",
       "        text-align: right;\n",
       "    }\n",
       "</style>\n",
       "<table border=\"1\" class=\"dataframe\">\n",
       "  <thead>\n",
       "    <tr style=\"text-align: right;\">\n",
       "      <th></th>\n",
       "      <th>id</th>\n",
       "      <th>target</th>\n",
       "    </tr>\n",
       "  </thead>\n",
       "  <tbody>\n",
       "    <tr>\n",
       "      <th>0</th>\n",
       "      <td>00005bced6</td>\n",
       "      <td>0.5</td>\n",
       "    </tr>\n",
       "    <tr>\n",
       "      <th>1</th>\n",
       "      <td>0000806717</td>\n",
       "      <td>0.5</td>\n",
       "    </tr>\n",
       "    <tr>\n",
       "      <th>2</th>\n",
       "      <td>0000ef4fe1</td>\n",
       "      <td>0.5</td>\n",
       "    </tr>\n",
       "  </tbody>\n",
       "</table>\n",
       "</div>"
      ],
      "text/plain": [
       "           id  target\n",
       "0  00005bced6     0.5\n",
       "1  0000806717     0.5\n",
       "2  0000ef4fe1     0.5"
      ]
     },
     "metadata": {},
     "output_type": "display_data"
    }
   ],
   "source": [
    "train = pd.read_csv('../input/g2net-gravitational-wave-detection/training_labels.csv')\n",
    "datosValidacion = pd.read_csv('../input/g2net-gravitational-wave-detection/sample_submission.csv')\n",
    "test = datosValidacion\n",
    "\n",
    "display(train.head(3))\n",
    "display(test.head(3))"
   ]
  },
  {
   "cell_type": "code",
   "execution_count": 6,
   "id": "409180d7",
   "metadata": {
    "execution": {
     "iopub.execute_input": "2021-08-18T02:11:24.350893Z",
     "iopub.status.busy": "2021-08-18T02:11:24.350026Z",
     "iopub.status.idle": "2021-08-18T02:11:24.982246Z",
     "shell.execute_reply": "2021-08-18T02:11:24.982697Z"
    },
    "id": "kKQP4r5hgKtg",
    "outputId": "a684d72b-acfc-4731-ce46-f0279f26884f",
    "papermill": {
     "duration": 0.664817,
     "end_time": "2021-08-18T02:11:24.982842",
     "exception": false,
     "start_time": "2021-08-18T02:11:24.318025",
     "status": "completed"
    },
    "tags": []
   },
   "outputs": [
    {
     "data": {
      "text/html": [
       "<div>\n",
       "<style scoped>\n",
       "    .dataframe tbody tr th:only-of-type {\n",
       "        vertical-align: middle;\n",
       "    }\n",
       "\n",
       "    .dataframe tbody tr th {\n",
       "        vertical-align: top;\n",
       "    }\n",
       "\n",
       "    .dataframe thead th {\n",
       "        text-align: right;\n",
       "    }\n",
       "</style>\n",
       "<table border=\"1\" class=\"dataframe\">\n",
       "  <thead>\n",
       "    <tr style=\"text-align: right;\">\n",
       "      <th></th>\n",
       "      <th>id</th>\n",
       "      <th>target</th>\n",
       "      <th>file_path</th>\n",
       "    </tr>\n",
       "  </thead>\n",
       "  <tbody>\n",
       "    <tr>\n",
       "      <th>0</th>\n",
       "      <td>00000e74ad</td>\n",
       "      <td>1</td>\n",
       "      <td>../input/g2net-gravitational-wave-detection/tr...</td>\n",
       "    </tr>\n",
       "    <tr>\n",
       "      <th>1</th>\n",
       "      <td>00001f4945</td>\n",
       "      <td>0</td>\n",
       "      <td>../input/g2net-gravitational-wave-detection/tr...</td>\n",
       "    </tr>\n",
       "    <tr>\n",
       "      <th>2</th>\n",
       "      <td>0000661522</td>\n",
       "      <td>0</td>\n",
       "      <td>../input/g2net-gravitational-wave-detection/tr...</td>\n",
       "    </tr>\n",
       "  </tbody>\n",
       "</table>\n",
       "</div>"
      ],
      "text/plain": [
       "           id  target                                          file_path\n",
       "0  00000e74ad       1  ../input/g2net-gravitational-wave-detection/tr...\n",
       "1  00001f4945       0  ../input/g2net-gravitational-wave-detection/tr...\n",
       "2  0000661522       0  ../input/g2net-gravitational-wave-detection/tr..."
      ]
     },
     "metadata": {},
     "output_type": "display_data"
    },
    {
     "data": {
      "text/html": [
       "<div>\n",
       "<style scoped>\n",
       "    .dataframe tbody tr th:only-of-type {\n",
       "        vertical-align: middle;\n",
       "    }\n",
       "\n",
       "    .dataframe tbody tr th {\n",
       "        vertical-align: top;\n",
       "    }\n",
       "\n",
       "    .dataframe thead th {\n",
       "        text-align: right;\n",
       "    }\n",
       "</style>\n",
       "<table border=\"1\" class=\"dataframe\">\n",
       "  <thead>\n",
       "    <tr style=\"text-align: right;\">\n",
       "      <th></th>\n",
       "      <th>id</th>\n",
       "      <th>target</th>\n",
       "      <th>file_path</th>\n",
       "    </tr>\n",
       "  </thead>\n",
       "  <tbody>\n",
       "    <tr>\n",
       "      <th>0</th>\n",
       "      <td>00005bced6</td>\n",
       "      <td>0.5</td>\n",
       "      <td>../input/g2net-gravitational-wave-detection/te...</td>\n",
       "    </tr>\n",
       "    <tr>\n",
       "      <th>1</th>\n",
       "      <td>0000806717</td>\n",
       "      <td>0.5</td>\n",
       "      <td>../input/g2net-gravitational-wave-detection/te...</td>\n",
       "    </tr>\n",
       "    <tr>\n",
       "      <th>2</th>\n",
       "      <td>0000ef4fe1</td>\n",
       "      <td>0.5</td>\n",
       "      <td>../input/g2net-gravitational-wave-detection/te...</td>\n",
       "    </tr>\n",
       "  </tbody>\n",
       "</table>\n",
       "</div>"
      ],
      "text/plain": [
       "           id  target                                          file_path\n",
       "0  00005bced6     0.5  ../input/g2net-gravitational-wave-detection/te...\n",
       "1  0000806717     0.5  ../input/g2net-gravitational-wave-detection/te...\n",
       "2  0000ef4fe1     0.5  ../input/g2net-gravitational-wave-detection/te..."
      ]
     },
     "metadata": {},
     "output_type": "display_data"
    }
   ],
   "source": [
    "def obtenerRutaDeImagenEntrenamiento(IDImagen):\n",
    "    return \"../input/g2net-gravitational-wave-detection/train/{}/{}/{}/{}.npy\".format(\n",
    "        IDImagen[0], IDImagen[1], IDImagen[2], IDImagen)\n",
    "\n",
    "def obtenerRutaDeImagenDePrueba(IDImagen):\n",
    "    return \"../input/g2net-gravitational-wave-detection/test/{}/{}/{}/{}.npy\".format(\n",
    "        IDImagen[0], IDImagen[1], IDImagen[2], IDImagen)\n",
    "\n",
    "train['file_path'] = train['id'].apply(obtenerRutaDeImagenEntrenamiento)\n",
    "test['file_path'] = test['id'].apply(obtenerRutaDeImagenDePrueba)\n",
    "\n",
    "display(train.head(3))\n",
    "display(test.head(3))"
   ]
  },
  {
   "cell_type": "code",
   "execution_count": 7,
   "id": "0f2d4e16",
   "metadata": {
    "execution": {
     "iopub.execute_input": "2021-08-18T02:11:25.022279Z",
     "iopub.status.busy": "2021-08-18T02:11:25.021449Z",
     "iopub.status.idle": "2021-08-18T02:11:25.273231Z",
     "shell.execute_reply": "2021-08-18T02:11:25.273644Z"
    },
    "id": "ydQqUiiBgKtl",
    "outputId": "e560a514-b4e4-41d0-a42c-2a9764492e65",
    "papermill": {
     "duration": 0.273395,
     "end_time": "2021-08-18T02:11:25.273798",
     "exception": false,
     "start_time": "2021-08-18T02:11:25.000403",
     "status": "completed"
    },
    "tags": []
   },
   "outputs": [
    {
     "name": "stdout",
     "output_type": "stream",
     "text": [
      "532000\n",
      "28000\n"
     ]
    }
   ],
   "source": [
    "x_train, x_val = sk_model_selection.train_test_split(\n",
    "    train, \n",
    "    test_size=0.05, \n",
    "    random_state=42\n",
    ")\n",
    "print(len(x_train))\n",
    "print(len(x_val))"
   ]
  },
  {
   "cell_type": "code",
   "execution_count": 8,
   "id": "7e7c6628",
   "metadata": {
    "execution": {
     "iopub.execute_input": "2021-08-18T02:11:25.318301Z",
     "iopub.status.busy": "2021-08-18T02:11:25.316919Z",
     "iopub.status.idle": "2021-08-18T02:11:25.319258Z",
     "shell.execute_reply": "2021-08-18T02:11:25.319742Z"
    },
    "id": "q9KAe7OUgKtm",
    "papermill": {
     "duration": 0.02949,
     "end_time": "2021-08-18T02:11:25.319870",
     "exception": false,
     "start_time": "2021-08-18T02:11:25.290380",
     "status": "completed"
    },
    "tags": []
   },
   "outputs": [],
   "source": [
    "class Dataset(Sequence):\n",
    "    def __init__(self,df,esEntrenamiento=True,tamanoLote=32,shuffle=True):\n",
    "        self.id = df[\"id\"].values\n",
    "        self.ruta = df[\"file_path\"].values\n",
    "        self.y =  df[\"target\"].values\n",
    "        self.esEntrenamiento = esEntrenamiento\n",
    "        self.tamanoLote = tamanoLote\n",
    "        self.shuffle = shuffle\n",
    "        self.transformadaDeOnda = CQT1992v2(sr=2048, fmin=20, fmax=1024, hop_length=64)\n",
    "\n",
    "    def __len__(self):\n",
    "        return math.ceil(len(self.id)/self.tamanoLote)\n",
    "    \n",
    "    def aplicarTransformadaQ(self,pathx,transform): \n",
    "        ondas = np.load(pathx)\n",
    "        ondas = np.hstack(ondas)\n",
    "        ondas = ondas / np.max(ondas)\n",
    "        ondas = torch.from_numpy(ondas).float()\n",
    "        imagen = transform(ondas)\n",
    "        imagen = np.array(imagen)\n",
    "        imagen = np.transpose(imagen,(1,2,0))\n",
    "        return imagen \n",
    "    \n",
    "    def __getitem__(self,ids):\n",
    "        rutaDeLotes = self.ruta[ids * self.tamanoLote:(ids + 1) * self.tamanoLote]\n",
    "        \n",
    "        if self.y is not None:\n",
    "            loteY = self.y[ids * self.tamanoLote: (ids + 1) * self.tamanoLote]\n",
    "            \n",
    "        listaX = np.array([self.aplicarTransformadaQ(x,self.transformadaDeOnda) for x in rutaDeLotes])\n",
    "        loteX = np.stack(listaX)\n",
    "        if self.esEntrenamiento:\n",
    "            return loteX, loteY\n",
    "        else:\n",
    "            return loteX"
   ]
  },
  {
   "cell_type": "code",
   "execution_count": 9,
   "id": "caf9f6a9",
   "metadata": {
    "execution": {
     "iopub.execute_input": "2021-08-18T02:11:25.357904Z",
     "iopub.status.busy": "2021-08-18T02:11:25.356880Z",
     "iopub.status.idle": "2021-08-18T02:11:25.424471Z",
     "shell.execute_reply": "2021-08-18T02:11:25.423680Z"
    },
    "id": "541gCGCYgKtp",
    "outputId": "3fa6d6b0-8fae-452f-a09e-8d2b7bbb347d",
    "papermill": {
     "duration": 0.088741,
     "end_time": "2021-08-18T02:11:25.424671",
     "exception": false,
     "start_time": "2021-08-18T02:11:25.335930",
     "status": "completed"
    },
    "tags": []
   },
   "outputs": [
    {
     "name": "stdout",
     "output_type": "stream",
     "text": [
      "CQT kernels created, time used = 0.0437 seconds\n",
      "CQT kernels created, time used = 0.0172 seconds\n"
     ]
    },
    {
     "name": "stderr",
     "output_type": "stream",
     "text": [
      "/opt/conda/lib/python3.7/site-packages/nnAudio/utils.py:326: SyntaxWarning: If fmax is given, n_bins will be ignored\n",
      "  warnings.warn('If fmax is given, n_bins will be ignored',SyntaxWarning)\n"
     ]
    }
   ],
   "source": [
    "DatasetDeEntrenamiento = Dataset(x_train) \n",
    "DatasetDeValidacion = Dataset(x_val) "
   ]
  },
  {
   "cell_type": "code",
   "execution_count": 10,
   "id": "5e00f984",
   "metadata": {
    "execution": {
     "iopub.execute_input": "2021-08-18T02:11:25.470389Z",
     "iopub.status.busy": "2021-08-18T02:11:25.469714Z",
     "iopub.status.idle": "2021-08-18T02:11:45.679213Z",
     "shell.execute_reply": "2021-08-18T02:11:45.678578Z"
    },
    "id": "Cdk1bAhmgKts",
    "outputId": "391d9e2d-24df-4cb4-dff3-15bd45b37aec",
    "papermill": {
     "duration": 20.234665,
     "end_time": "2021-08-18T02:11:45.679570",
     "exception": false,
     "start_time": "2021-08-18T02:11:25.444905",
     "status": "completed"
    },
    "tags": []
   },
   "outputs": [
    {
     "name": "stdout",
     "output_type": "stream",
     "text": [
      "Downloading data from https://github.com/Callidior/keras-applications/releases/download/efficientnet/efficientnet-b7_weights_tf_dim_ordering_tf_kernels_autoaugment_notop.h5\n",
      "258441216/258434480 [==============================] - 4s 0us/step\n",
      "Model: \"sequential\"\n",
      "_________________________________________________________________\n",
      "Layer (type)                 Output Shape              Param #   \n",
      "=================================================================\n",
      "conv2d (Conv2D)              (None, 69, 193, 3)        30        \n",
      "_________________________________________________________________\n",
      "efficientnet-b7 (Functional) (None, 2560)              64097680  \n",
      "_________________________________________________________________\n",
      "dense (Dense)                (None, 1)                 2561      \n",
      "=================================================================\n",
      "Total params: 64,100,271\n",
      "Trainable params: 63,789,551\n",
      "Non-trainable params: 310,720\n",
      "_________________________________________________________________\n"
     ]
    }
   ],
   "source": [
    "def crearModelo(): \n",
    "    inputs = layers.Input(shape=(69,193,1))\n",
    "    capasEfficientnet = efn.EfficientNetB7(include_top=False,input_shape=(),weights='imagenet',pooling='avg')\n",
    "    modelo = Sequential()\n",
    "    \n",
    "    modelo.add(inputs)\n",
    "    modelo.add(keras.layers.Conv2D(3,3,activation='relu',padding='same'))\n",
    "    modelo.add(capasEfficientnet)\n",
    "\n",
    "    modelo.add(Dense(1, activation=\"sigmoid\"))\n",
    "    \n",
    "    modelo.compile(optimizer = Adam(lr = 0.00005),\n",
    "                loss = \"binary_crossentropy\",\n",
    "                metrics = [\"acc\"])\n",
    "    return modelo\n",
    "\n",
    "modelo = crearModelo()\n",
    "modelo.summary()"
   ]
  },
  {
   "cell_type": "code",
   "execution_count": 11,
   "id": "fc787c05",
   "metadata": {
    "execution": {
     "iopub.execute_input": "2021-08-18T02:11:45.773615Z",
     "iopub.status.busy": "2021-08-18T02:11:45.772290Z",
     "iopub.status.idle": "2021-08-18T02:11:45.796797Z",
     "shell.execute_reply": "2021-08-18T02:11:45.797489Z"
    },
    "id": "RyQPLb_0gKtt",
    "outputId": "8907cbba-ec6b-411e-c271-51c7305a640d",
    "papermill": {
     "duration": 0.075413,
     "end_time": "2021-08-18T02:11:45.797712",
     "exception": false,
     "start_time": "2021-08-18T02:11:45.722299",
     "status": "completed"
    },
    "tags": []
   },
   "outputs": [
    {
     "name": "stdout",
     "output_type": "stream",
     "text": [
      "CQT kernels created, time used = 0.0221 seconds\n"
     ]
    }
   ],
   "source": [
    "unaPrueba = Dataset(x_train[:1000])"
   ]
  },
  {
   "cell_type": "code",
   "execution_count": 12,
   "id": "81260790",
   "metadata": {
    "execution": {
     "iopub.execute_input": "2021-08-18T02:11:45.900768Z",
     "iopub.status.busy": "2021-08-18T02:11:45.900020Z",
     "iopub.status.idle": "2021-08-18T02:18:27.400810Z",
     "shell.execute_reply": "2021-08-18T02:18:27.401359Z"
    },
    "id": "giaFsToggKtu",
    "outputId": "30fc3f1e-fbb1-4da8-c01c-64ba75110133",
    "papermill": {
     "duration": 401.555698,
     "end_time": "2021-08-18T02:18:27.401568",
     "exception": false,
     "start_time": "2021-08-18T02:11:45.845870",
     "status": "completed"
    },
    "tags": []
   },
   "outputs": [
    {
     "name": "stdout",
     "output_type": "stream",
     "text": [
      "32/32 [==============================] - 401s 12s/step - loss: 0.7073 - acc: 0.4742 - val_loss: 0.6984 - val_acc: 0.5049\n"
     ]
    }
   ],
   "source": [
    "\n",
    "train_history = modelo.fit(\n",
    "    unaPrueba,\n",
    "    epochs = 1,\n",
    "    validation_data = DatasetDeValidacion\n",
    ")"
   ]
  },
  {
   "cell_type": "code",
   "execution_count": 13,
   "id": "c5fda767",
   "metadata": {
    "execution": {
     "iopub.execute_input": "2021-08-18T02:18:27.510021Z",
     "iopub.status.busy": "2021-08-18T02:18:27.509386Z",
     "iopub.status.idle": "2021-08-18T02:18:27.534835Z",
     "shell.execute_reply": "2021-08-18T02:18:27.535344Z"
    },
    "id": "4rvPuV6ugKtu",
    "outputId": "6f90426d-763b-45bd-c6c2-ba1a6b7a761f",
    "papermill": {
     "duration": 0.082524,
     "end_time": "2021-08-18T02:18:27.535544",
     "exception": false,
     "start_time": "2021-08-18T02:18:27.453020",
     "status": "completed"
    },
    "tags": []
   },
   "outputs": [
    {
     "name": "stdout",
     "output_type": "stream",
     "text": [
      "CQT kernels created, time used = 0.0208 seconds\n"
     ]
    }
   ],
   "source": [
    "DatasetAPredecir = Dataset(test,esEntrenamiento=False)"
   ]
  },
  {
   "cell_type": "code",
   "execution_count": 14,
   "id": "26c9ec56",
   "metadata": {
    "execution": {
     "iopub.execute_input": "2021-08-18T02:18:27.647320Z",
     "iopub.status.busy": "2021-08-18T02:18:27.646708Z",
     "iopub.status.idle": "2021-08-18T02:58:37.037606Z",
     "shell.execute_reply": "2021-08-18T02:58:37.035674Z"
    },
    "id": "f6zEM-fbgKtv",
    "papermill": {
     "duration": 2409.447903,
     "end_time": "2021-08-18T02:58:37.039048",
     "exception": false,
     "start_time": "2021-08-18T02:18:27.591145",
     "status": "completed"
    },
    "tags": []
   },
   "outputs": [],
   "source": [
    "predicciones = modelo.predict(DatasetAPredecir)\n",
    "predicciones = predicciones.reshape(-1)"
   ]
  },
  {
   "cell_type": "code",
   "execution_count": 15,
   "id": "65b7fa7e",
   "metadata": {
    "execution": {
     "iopub.execute_input": "2021-08-18T02:58:37.160774Z",
     "iopub.status.busy": "2021-08-18T02:58:37.159823Z",
     "iopub.status.idle": "2021-08-18T02:58:37.178433Z",
     "shell.execute_reply": "2021-08-18T02:58:37.177868Z"
    },
    "id": "J_vyep26gKtv",
    "papermill": {
     "duration": 0.084537,
     "end_time": "2021-08-18T02:58:37.178583",
     "exception": false,
     "start_time": "2021-08-18T02:58:37.094046",
     "status": "completed"
    },
    "tags": []
   },
   "outputs": [],
   "source": [
    "submission = pd.DataFrame({'id':datosValidacion['id'],'target':predicciones})\n"
   ]
  },
  {
   "cell_type": "code",
   "execution_count": 16,
   "id": "b559aff6",
   "metadata": {
    "execution": {
     "iopub.execute_input": "2021-08-18T02:58:37.325766Z",
     "iopub.status.busy": "2021-08-18T02:58:37.324752Z",
     "iopub.status.idle": "2021-08-18T02:58:37.328812Z",
     "shell.execute_reply": "2021-08-18T02:58:37.329367Z"
    },
    "id": "gjeWGvQ3gKtv",
    "outputId": "d16b26ba-0c13-4ce9-a2bf-34bd0d08b86e",
    "papermill": {
     "duration": 0.09894,
     "end_time": "2021-08-18T02:58:37.329562",
     "exception": false,
     "start_time": "2021-08-18T02:58:37.230622",
     "status": "completed"
    },
    "tags": []
   },
   "outputs": [
    {
     "data": {
      "text/html": [
       "<div>\n",
       "<style scoped>\n",
       "    .dataframe tbody tr th:only-of-type {\n",
       "        vertical-align: middle;\n",
       "    }\n",
       "\n",
       "    .dataframe tbody tr th {\n",
       "        vertical-align: top;\n",
       "    }\n",
       "\n",
       "    .dataframe thead th {\n",
       "        text-align: right;\n",
       "    }\n",
       "</style>\n",
       "<table border=\"1\" class=\"dataframe\">\n",
       "  <thead>\n",
       "    <tr style=\"text-align: right;\">\n",
       "      <th></th>\n",
       "      <th>id</th>\n",
       "      <th>target</th>\n",
       "    </tr>\n",
       "  </thead>\n",
       "  <tbody>\n",
       "    <tr>\n",
       "      <th>0</th>\n",
       "      <td>00005bced6</td>\n",
       "      <td>0.442705</td>\n",
       "    </tr>\n",
       "    <tr>\n",
       "      <th>1</th>\n",
       "      <td>0000806717</td>\n",
       "      <td>0.438100</td>\n",
       "    </tr>\n",
       "    <tr>\n",
       "      <th>2</th>\n",
       "      <td>0000ef4fe1</td>\n",
       "      <td>0.446000</td>\n",
       "    </tr>\n",
       "    <tr>\n",
       "      <th>3</th>\n",
       "      <td>00020de251</td>\n",
       "      <td>0.442880</td>\n",
       "    </tr>\n",
       "    <tr>\n",
       "      <th>4</th>\n",
       "      <td>00024887b5</td>\n",
       "      <td>0.448217</td>\n",
       "    </tr>\n",
       "    <tr>\n",
       "      <th>...</th>\n",
       "      <td>...</td>\n",
       "      <td>...</td>\n",
       "    </tr>\n",
       "    <tr>\n",
       "      <th>225995</th>\n",
       "      <td>ffff4125f1</td>\n",
       "      <td>0.439217</td>\n",
       "    </tr>\n",
       "    <tr>\n",
       "      <th>225996</th>\n",
       "      <td>ffff9d32a6</td>\n",
       "      <td>0.447396</td>\n",
       "    </tr>\n",
       "    <tr>\n",
       "      <th>225997</th>\n",
       "      <td>ffff9f4c1f</td>\n",
       "      <td>0.448584</td>\n",
       "    </tr>\n",
       "    <tr>\n",
       "      <th>225998</th>\n",
       "      <td>ffffa19693</td>\n",
       "      <td>0.446683</td>\n",
       "    </tr>\n",
       "    <tr>\n",
       "      <th>225999</th>\n",
       "      <td>ffffebbfe2</td>\n",
       "      <td>0.446440</td>\n",
       "    </tr>\n",
       "  </tbody>\n",
       "</table>\n",
       "<p>226000 rows × 2 columns</p>\n",
       "</div>"
      ],
      "text/plain": [
       "                id    target\n",
       "0       00005bced6  0.442705\n",
       "1       0000806717  0.438100\n",
       "2       0000ef4fe1  0.446000\n",
       "3       00020de251  0.442880\n",
       "4       00024887b5  0.448217\n",
       "...            ...       ...\n",
       "225995  ffff4125f1  0.439217\n",
       "225996  ffff9d32a6  0.447396\n",
       "225997  ffff9f4c1f  0.448584\n",
       "225998  ffffa19693  0.446683\n",
       "225999  ffffebbfe2  0.446440\n",
       "\n",
       "[226000 rows x 2 columns]"
      ]
     },
     "execution_count": 16,
     "metadata": {},
     "output_type": "execute_result"
    }
   ],
   "source": [
    "submission"
   ]
  },
  {
   "cell_type": "code",
   "execution_count": 17,
   "id": "0d00133e",
   "metadata": {
    "execution": {
     "iopub.execute_input": "2021-08-18T02:58:37.445144Z",
     "iopub.status.busy": "2021-08-18T02:58:37.444355Z",
     "iopub.status.idle": "2021-08-18T02:58:38.159487Z",
     "shell.execute_reply": "2021-08-18T02:58:38.158824Z"
    },
    "id": "GqFsWfVMgKtw",
    "papermill": {
     "duration": 0.771985,
     "end_time": "2021-08-18T02:58:38.159636",
     "exception": false,
     "start_time": "2021-08-18T02:58:37.387651",
     "status": "completed"
    },
    "tags": []
   },
   "outputs": [],
   "source": [
    "submission.to_csv('submission.csv',index=False)"
   ]
  }
 ],
 "metadata": {
  "kernelspec": {
   "display_name": "Python 3",
   "language": "python",
   "name": "python3"
  },
  "language_info": {
   "codemirror_mode": {
    "name": "ipython",
    "version": 3
   },
   "file_extension": ".py",
   "mimetype": "text/x-python",
   "name": "python",
   "nbconvert_exporter": "python",
   "pygments_lexer": "ipython3",
   "version": "3.7.10"
  },
  "papermill": {
   "default_parameters": {},
   "duration": 2870.460564,
   "end_time": "2021-08-18T02:58:41.944085",
   "environment_variables": {},
   "exception": null,
   "input_path": "__notebook__.ipynb",
   "output_path": "__notebook__.ipynb",
   "parameters": {},
   "start_time": "2021-08-18T02:10:51.483521",
   "version": "2.3.3"
  }
 },
 "nbformat": 4,
 "nbformat_minor": 5
}
